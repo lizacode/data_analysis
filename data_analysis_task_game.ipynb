{
 "cells": [
  {
   "cell_type": "markdown",
   "metadata": {},
   "source": [
    "## Task Description\n",
    "\n",
    "The document provides real data for one of the projects for cohorts who installed the game from 21.09.23 to 28.09.23.\n",
    "\n",
    "Based on this data, hypothesize how revenue grows in the first month of a user's game life.\n",
    "How many times will the revenue of the zero day (the day of the game's installation), the first and the third day increase by the 30th day?"
   ]
  },
  {
   "cell_type": "code",
   "execution_count": 6,
   "metadata": {},
   "outputs": [
    {
     "name": "stdout",
     "output_type": "stream",
     "text": [
      "Requirement already satisfied: openpyxl in /usr/local/lib/python3.10/site-packages (3.1.2)\n",
      "Requirement already satisfied: et-xmlfile in /usr/local/lib/python3.10/site-packages (from openpyxl) (1.1.0)\n",
      "\n",
      "\u001b[1m[\u001b[0m\u001b[34;49mnotice\u001b[0m\u001b[1;39;49m]\u001b[0m\u001b[39;49m A new release of pip is available: \u001b[0m\u001b[31;49m23.0.1\u001b[0m\u001b[39;49m -> \u001b[0m\u001b[32;49m23.3.1\u001b[0m\n",
      "\u001b[1m[\u001b[0m\u001b[34;49mnotice\u001b[0m\u001b[1;39;49m]\u001b[0m\u001b[39;49m To update, run: \u001b[0m\u001b[32;49mpython3.10 -m pip install --upgrade pip\u001b[0m\n"
     ]
    }
   ],
   "source": [
    "pip install pandas\n",
    "pip install matplotlib\n",
    "pip install scipy\n",
    "\n",
    "import sys \n",
    "\n",
    "!{sys.executable} -m pip install openpyxl"
   ]
  },
  {
   "cell_type": "code",
   "execution_count": 55,
   "metadata": {},
   "outputs": [
    {
     "data": {
      "text/html": [
       "<div>\n",
       "<style scoped>\n",
       "    .dataframe tbody tr th:only-of-type {\n",
       "        vertical-align: middle;\n",
       "    }\n",
       "\n",
       "    .dataframe tbody tr th {\n",
       "        vertical-align: top;\n",
       "    }\n",
       "\n",
       "    .dataframe thead th {\n",
       "        text-align: right;\n",
       "    }\n",
       "</style>\n",
       "<table border=\"1\" class=\"dataframe\">\n",
       "  <thead>\n",
       "    <tr style=\"text-align: right;\">\n",
       "      <th></th>\n",
       "      <th>install_date</th>\n",
       "      <th>event_date</th>\n",
       "      <th>event_revenue</th>\n",
       "      <th>platform</th>\n",
       "      <th>user_id</th>\n",
       "    </tr>\n",
       "  </thead>\n",
       "  <tbody>\n",
       "    <tr>\n",
       "      <th>0</th>\n",
       "      <td>2023-09-21</td>\n",
       "      <td>2023-09-21</td>\n",
       "      <td>0.316470</td>\n",
       "      <td>android</td>\n",
       "      <td>1695339148585-8391306266630234966</td>\n",
       "    </tr>\n",
       "    <tr>\n",
       "      <th>1</th>\n",
       "      <td>2023-09-21</td>\n",
       "      <td>2023-09-21</td>\n",
       "      <td>0.063103</td>\n",
       "      <td>android</td>\n",
       "      <td>1695280270975-5411644856462553821</td>\n",
       "    </tr>\n",
       "    <tr>\n",
       "      <th>2</th>\n",
       "      <td>2023-09-21</td>\n",
       "      <td>2023-09-21</td>\n",
       "      <td>0.316470</td>\n",
       "      <td>android</td>\n",
       "      <td>1695317488398-8939481192662600393</td>\n",
       "    </tr>\n",
       "    <tr>\n",
       "      <th>3</th>\n",
       "      <td>2023-09-21</td>\n",
       "      <td>2023-09-21</td>\n",
       "      <td>0.054710</td>\n",
       "      <td>android</td>\n",
       "      <td>1695317488398-8939481192662600393</td>\n",
       "    </tr>\n",
       "    <tr>\n",
       "      <th>4</th>\n",
       "      <td>2023-09-21</td>\n",
       "      <td>2023-09-21</td>\n",
       "      <td>0.024880</td>\n",
       "      <td>android</td>\n",
       "      <td>1695280270975-5411644856462553821</td>\n",
       "    </tr>\n",
       "  </tbody>\n",
       "</table>\n",
       "</div>"
      ],
      "text/plain": [
       "  install_date event_date  event_revenue platform  \\\n",
       "0   2023-09-21 2023-09-21       0.316470  android   \n",
       "1   2023-09-21 2023-09-21       0.063103  android   \n",
       "2   2023-09-21 2023-09-21       0.316470  android   \n",
       "3   2023-09-21 2023-09-21       0.054710  android   \n",
       "4   2023-09-21 2023-09-21       0.024880  android   \n",
       "\n",
       "                             user_id  \n",
       "0  1695339148585-8391306266630234966  \n",
       "1  1695280270975-5411644856462553821  \n",
       "2  1695317488398-8939481192662600393  \n",
       "3  1695317488398-8939481192662600393  \n",
       "4  1695280270975-5411644856462553821  "
      ]
     },
     "execution_count": 55,
     "metadata": {},
     "output_type": "execute_result"
    }
   ],
   "source": [
    "import pandas as pd\n",
    "\n",
    "file_path = './Ad_revenue.xlsx'\n",
    "\n",
    "#Read data from the list 'ad revenue'\n",
    "with pd.ExcelFile(file_path) as xls:\n",
    "    ad_revenue_data = pd.read_excel(xls, 'ad revenue')\n",
    "\n",
    "ad_revenue_data.head()"
   ]
  },
  {
   "cell_type": "code",
   "execution_count": 50,
   "metadata": {},
   "outputs": [
    {
     "data": {
      "text/html": [
       "<div>\n",
       "<style scoped>\n",
       "    .dataframe tbody tr th:only-of-type {\n",
       "        vertical-align: middle;\n",
       "    }\n",
       "\n",
       "    .dataframe tbody tr th {\n",
       "        vertical-align: top;\n",
       "    }\n",
       "\n",
       "    .dataframe thead th {\n",
       "        text-align: right;\n",
       "    }\n",
       "</style>\n",
       "<table border=\"1\" class=\"dataframe\">\n",
       "  <thead>\n",
       "    <tr style=\"text-align: right;\">\n",
       "      <th></th>\n",
       "      <th>install_date</th>\n",
       "      <th>installs</th>\n",
       "      <th>platform</th>\n",
       "    </tr>\n",
       "  </thead>\n",
       "  <tbody>\n",
       "    <tr>\n",
       "      <th>0</th>\n",
       "      <td>2023-09-21</td>\n",
       "      <td>1</td>\n",
       "      <td>android</td>\n",
       "    </tr>\n",
       "    <tr>\n",
       "      <th>1</th>\n",
       "      <td>2023-09-21</td>\n",
       "      <td>0</td>\n",
       "      <td>android</td>\n",
       "    </tr>\n",
       "    <tr>\n",
       "      <th>2</th>\n",
       "      <td>2023-09-21</td>\n",
       "      <td>47</td>\n",
       "      <td>android</td>\n",
       "    </tr>\n",
       "    <tr>\n",
       "      <th>3</th>\n",
       "      <td>2023-09-21</td>\n",
       "      <td>0</td>\n",
       "      <td>android</td>\n",
       "    </tr>\n",
       "    <tr>\n",
       "      <th>4</th>\n",
       "      <td>2023-09-21</td>\n",
       "      <td>0</td>\n",
       "      <td>android</td>\n",
       "    </tr>\n",
       "  </tbody>\n",
       "</table>\n",
       "</div>"
      ],
      "text/plain": [
       "  install_date  installs platform\n",
       "0   2023-09-21         1  android\n",
       "1   2023-09-21         0  android\n",
       "2   2023-09-21        47  android\n",
       "3   2023-09-21         0  android\n",
       "4   2023-09-21         0  android"
      ]
     },
     "execution_count": 50,
     "metadata": {},
     "output_type": "execute_result"
    }
   ],
   "source": [
    "#Read data from the list 'installs data'\n",
    "with pd.ExcelFile(file_path) as xls:\n",
    "    installs_data = pd.read_excel(xls, 'installs data')\n",
    "\n",
    "installs_data.head()"
   ]
  },
  {
   "cell_type": "code",
   "execution_count": 59,
   "metadata": {},
   "outputs": [
    {
     "name": "stdout",
     "output_type": "stream",
     "text": [
      "911\n",
      "0\n",
      "0\n",
      "0\n",
      "0\n"
     ]
    }
   ],
   "source": [
    "#Checking for empty values \n",
    "na_count = ad_revenue_data['event_revenue'].isna().sum()\n",
    "print(na_count)\n",
    "\n",
    "na_count = ad_revenue_data['install_date'].isna().sum()\n",
    "print(na_count)\n",
    "\n",
    "na_count = ad_revenue_data['event_date'].isna().sum()\n",
    "print(na_count)\n",
    "\n",
    "na_count = installs_data['install_date'].isna().sum()\n",
    "print(na_count)\n",
    "\n",
    "na_count = installs_data['installs'].isna().sum()\n",
    "print(na_count)"
   ]
  },
  {
   "cell_type": "code",
   "execution_count": 60,
   "metadata": {},
   "outputs": [
    {
     "name": "stdout",
     "output_type": "stream",
     "text": [
      "0.0520515\n",
      "0\n"
     ]
    }
   ],
   "source": [
    "#The median value of the event_revenue column, excluding empty values\n",
    "median_revenue = ad_revenue_data['event_revenue'].median()\n",
    "print (median_revenue)\n",
    "\n",
    "#Replace empty values with the median value\n",
    "ad_revenue_data['event_revenue'].fillna(median_revenue, inplace=True)\n",
    "\n",
    "#Checking for empty values\n",
    "na_count = ad_revenue_data['event_revenue'].isna().sum()\n",
    "print(na_count)"
   ]
  },
  {
   "cell_type": "code",
   "execution_count": 45,
   "metadata": {},
   "outputs": [
    {
     "data": {
      "text/html": [
       "<div>\n",
       "<style scoped>\n",
       "    .dataframe tbody tr th:only-of-type {\n",
       "        vertical-align: middle;\n",
       "    }\n",
       "\n",
       "    .dataframe tbody tr th {\n",
       "        vertical-align: top;\n",
       "    }\n",
       "\n",
       "    .dataframe thead th {\n",
       "        text-align: right;\n",
       "    }\n",
       "</style>\n",
       "<table border=\"1\" class=\"dataframe\">\n",
       "  <thead>\n",
       "    <tr style=\"text-align: right;\">\n",
       "      <th></th>\n",
       "      <th>install_date</th>\n",
       "      <th>installs</th>\n",
       "    </tr>\n",
       "  </thead>\n",
       "  <tbody>\n",
       "    <tr>\n",
       "      <th>0</th>\n",
       "      <td>2023-09-21</td>\n",
       "      <td>718</td>\n",
       "    </tr>\n",
       "    <tr>\n",
       "      <th>1</th>\n",
       "      <td>2023-09-22</td>\n",
       "      <td>671</td>\n",
       "    </tr>\n",
       "    <tr>\n",
       "      <th>2</th>\n",
       "      <td>2023-09-23</td>\n",
       "      <td>693</td>\n",
       "    </tr>\n",
       "    <tr>\n",
       "      <th>3</th>\n",
       "      <td>2023-09-24</td>\n",
       "      <td>891</td>\n",
       "    </tr>\n",
       "    <tr>\n",
       "      <th>4</th>\n",
       "      <td>2023-09-25</td>\n",
       "      <td>1349</td>\n",
       "    </tr>\n",
       "  </tbody>\n",
       "</table>\n",
       "</div>"
      ],
      "text/plain": [
       "  install_date  installs\n",
       "0   2023-09-21       718\n",
       "1   2023-09-22       671\n",
       "2   2023-09-23       693\n",
       "3   2023-09-24       891\n",
       "4   2023-09-25      1349"
      ]
     },
     "execution_count": 45,
     "metadata": {},
     "output_type": "execute_result"
    }
   ],
   "source": [
    "# Aggregating count of installs by date from the list installs data\n",
    "agr_installs = installs_data.groupby('install_date', as_index=False)['installs'].sum()\n",
    "agr_installs.head()"
   ]
  },
  {
   "cell_type": "code",
   "execution_count": 62,
   "metadata": {},
   "outputs": [
    {
     "data": {
      "text/html": [
       "<div>\n",
       "<style scoped>\n",
       "    .dataframe tbody tr th:only-of-type {\n",
       "        vertical-align: middle;\n",
       "    }\n",
       "\n",
       "    .dataframe tbody tr th {\n",
       "        vertical-align: top;\n",
       "    }\n",
       "\n",
       "    .dataframe thead th {\n",
       "        text-align: right;\n",
       "    }\n",
       "</style>\n",
       "<table border=\"1\" class=\"dataframe\">\n",
       "  <thead>\n",
       "    <tr style=\"text-align: right;\">\n",
       "      <th></th>\n",
       "      <th>install_date</th>\n",
       "      <th>age</th>\n",
       "      <th>event_revenue</th>\n",
       "      <th>installs</th>\n",
       "      <th>arpu</th>\n",
       "    </tr>\n",
       "  </thead>\n",
       "  <tbody>\n",
       "    <tr>\n",
       "      <th>0</th>\n",
       "      <td>2023-09-21</td>\n",
       "      <td>0</td>\n",
       "      <td>252.465737</td>\n",
       "      <td>718</td>\n",
       "      <td>0.351624</td>\n",
       "    </tr>\n",
       "    <tr>\n",
       "      <th>1</th>\n",
       "      <td>2023-09-21</td>\n",
       "      <td>1</td>\n",
       "      <td>91.346231</td>\n",
       "      <td>718</td>\n",
       "      <td>0.127223</td>\n",
       "    </tr>\n",
       "    <tr>\n",
       "      <th>2</th>\n",
       "      <td>2023-09-21</td>\n",
       "      <td>2</td>\n",
       "      <td>56.714017</td>\n",
       "      <td>718</td>\n",
       "      <td>0.078989</td>\n",
       "    </tr>\n",
       "    <tr>\n",
       "      <th>3</th>\n",
       "      <td>2023-09-21</td>\n",
       "      <td>3</td>\n",
       "      <td>41.387201</td>\n",
       "      <td>718</td>\n",
       "      <td>0.057642</td>\n",
       "    </tr>\n",
       "    <tr>\n",
       "      <th>4</th>\n",
       "      <td>2023-09-21</td>\n",
       "      <td>4</td>\n",
       "      <td>33.767638</td>\n",
       "      <td>718</td>\n",
       "      <td>0.047030</td>\n",
       "    </tr>\n",
       "  </tbody>\n",
       "</table>\n",
       "</div>"
      ],
      "text/plain": [
       "  install_date  age  event_revenue  installs      arpu\n",
       "0   2023-09-21    0     252.465737       718  0.351624\n",
       "1   2023-09-21    1      91.346231       718  0.127223\n",
       "2   2023-09-21    2      56.714017       718  0.078989\n",
       "3   2023-09-21    3      41.387201       718  0.057642\n",
       "4   2023-09-21    4      33.767638       718  0.047030"
      ]
     },
     "execution_count": 62,
     "metadata": {},
     "output_type": "execute_result"
    }
   ],
   "source": [
    "# Aggregating data from the list ad revenue data by cohorts - 'install_date' and 'age'\n",
    "\n",
    "# Cohort age calculation\n",
    "# Calculating the difference in days between event_date and install_date\n",
    "ad_revenue_data['age'] = (ad_revenue_data['event_date'] - ad_revenue_data['install_date']).dt.days \n",
    "\n",
    "# Calculating sum 'event_revenue' by cohorts\n",
    "total_revenue_by_cohort = ad_revenue_data.groupby(['install_date','age'], as_index=False)['event_revenue'].sum()\n",
    "\n",
    "merged_data = pd.merge(total_revenue_by_cohort, agr_installs, on='install_date', how='left')\n",
    "\n",
    "# Calculating arpu for every sub cohorts age\n",
    "merged_data['arpu'] = merged_data['event_revenue'] / merged_data['installs']\n",
    "merged_data.head()"
   ]
  },
  {
   "cell_type": "code",
   "execution_count": 38,
   "metadata": {},
   "outputs": [
    {
     "data": {
      "text/plain": [
       "<Axes: xlabel='age'>"
      ]
     },
     "execution_count": 38,
     "metadata": {},
     "output_type": "execute_result"
    },
    {
     "data": {
      "image/png": "[encoded data removed]",
      "text/plain": [
       "<Figure size 1600x700 with 1 Axes>"
      ]
     },
     "metadata": {},
     "output_type": "display_data"
    }
   ],
   "source": [
    "# Data visualisation for cohort of users who installed our app on \"2023-09-21\"\n",
    "merged_data.query('install_date==\"2023-09-21\"').plot('age', 'arpu', figsize=(16, 7))"
   ]
  },
  {
   "cell_type": "code",
   "execution_count": 44,
   "metadata": {},
   "outputs": [
    {
     "data": {
      "text/html": [
       "<div>\n",
       "<style scoped>\n",
       "    .dataframe tbody tr th:only-of-type {\n",
       "        vertical-align: middle;\n",
       "    }\n",
       "\n",
       "    .dataframe tbody tr th {\n",
       "        vertical-align: top;\n",
       "    }\n",
       "\n",
       "    .dataframe thead th {\n",
       "        text-align: right;\n",
       "    }\n",
       "</style>\n",
       "<table border=\"1\" class=\"dataframe\">\n",
       "  <thead>\n",
       "    <tr style=\"text-align: right;\">\n",
       "      <th></th>\n",
       "      <th>age</th>\n",
       "      <th>average_arpu</th>\n",
       "    </tr>\n",
       "  </thead>\n",
       "  <tbody>\n",
       "    <tr>\n",
       "      <th>0</th>\n",
       "      <td>0</td>\n",
       "      <td>0.467188</td>\n",
       "    </tr>\n",
       "    <tr>\n",
       "      <th>1</th>\n",
       "      <td>1</td>\n",
       "      <td>0.187993</td>\n",
       "    </tr>\n",
       "    <tr>\n",
       "      <th>2</th>\n",
       "      <td>2</td>\n",
       "      <td>0.107656</td>\n",
       "    </tr>\n",
       "    <tr>\n",
       "      <th>3</th>\n",
       "      <td>3</td>\n",
       "      <td>0.084781</td>\n",
       "    </tr>\n",
       "    <tr>\n",
       "      <th>4</th>\n",
       "      <td>4</td>\n",
       "      <td>0.068071</td>\n",
       "    </tr>\n",
       "    <tr>\n",
       "      <th>5</th>\n",
       "      <td>5</td>\n",
       "      <td>0.049444</td>\n",
       "    </tr>\n",
       "    <tr>\n",
       "      <th>6</th>\n",
       "      <td>6</td>\n",
       "      <td>0.042127</td>\n",
       "    </tr>\n",
       "    <tr>\n",
       "      <th>7</th>\n",
       "      <td>7</td>\n",
       "      <td>0.034297</td>\n",
       "    </tr>\n",
       "    <tr>\n",
       "      <th>8</th>\n",
       "      <td>8</td>\n",
       "      <td>0.032133</td>\n",
       "    </tr>\n",
       "    <tr>\n",
       "      <th>9</th>\n",
       "      <td>9</td>\n",
       "      <td>0.019472</td>\n",
       "    </tr>\n",
       "  </tbody>\n",
       "</table>\n",
       "</div>"
      ],
      "text/plain": [
       "   age  average_arpu\n",
       "0    0      0.467188\n",
       "1    1      0.187993\n",
       "2    2      0.107656\n",
       "3    3      0.084781\n",
       "4    4      0.068071\n",
       "5    5      0.049444\n",
       "6    6      0.042127\n",
       "7    7      0.034297\n",
       "8    8      0.032133\n",
       "9    9      0.019472"
      ]
     },
     "execution_count": 44,
     "metadata": {},
     "output_type": "execute_result"
    }
   ],
   "source": [
    "# Aggregating merged_data by sub chorts 'age' and calculating 'average_arpu' for every sub chorts 'age' accordingly\n",
    "average_arpu_data = merged_data.groupby('age', as_index=False)['arpu'].mean()\n",
    "average_arpu_data.rename(columns={'arpu': 'average_arpu'}, inplace=True)\n",
    "average_arpu_data"
   ]
  },
  {
   "cell_type": "code",
   "execution_count": 45,
   "metadata": {},
   "outputs": [
    {
     "data": {
      "text/plain": [
       "<Axes: xlabel='age'>"
      ]
     },
     "execution_count": 45,
     "metadata": {},
     "output_type": "execute_result"
    },
    {
     "data": {
      "image/png": "[encoded data removed]",
      "text/plain": [
       "<Figure size 1600x700 with 1 Axes>"
      ]
     },
     "metadata": {},
     "output_type": "display_data"
    }
   ],
   "source": [
    "average_arpu_data.plot('age', 'average_arpu', figsize=(16, 7))"
   ]
  },
  {
   "cell_type": "code",
   "execution_count": null,
   "metadata": {},
   "outputs": [],
   "source": [
    "# We observe that data visualisation for cohort of users who installed our app on \"2023-09-21\" \n",
    "# and data visualisation of 'average_arpu' for every sub chorts 'age' \n",
    "# both close to the form of hyperbola function\n",
    "\n",
    "\n",
    "\n",
    "# THUS, USER REVENUE EXHIBITS A HYPERBOLIC DECREASE DURING THE FIRST MONTH"
   ]
  },
  {
   "cell_type": "code",
   "execution_count": 23,
   "metadata": {},
   "outputs": [
    {
     "data": {
      "text/plain": [
       "array([ 0.33153857,  0.69717732, -0.00839837])"
      ]
     },
     "execution_count": 23,
     "metadata": {},
     "output_type": "execute_result"
    }
   ],
   "source": [
    "# selected function is y = a / (x + b) + c\n",
    "\n",
    "# Using the curve fitting procedure, calculating the best fit parameters a, b, c of the selected model y = a / (x + b) + c \n",
    "# To fit a curve to the series of data points representing 'age' and 'average_arpu'.\n",
    "from scipy.optimize import curve_fit\n",
    "\n",
    "# Provided data\n",
    "age_data = average_arpu_data['age']\n",
    "arpu_data = average_arpu_data['average_arpu']\n",
    "\n",
    "# Function to fit the data\n",
    "def fit_function(x, a, b, c):\n",
    "    return a / (x + b) + c\n",
    "\n",
    "# Initial guess for the parameters\n",
    "initial_guess = [1, 1, 1]\n",
    "\n",
    "# Fit the function to the data\n",
    "params, params_covariance = curve_fit(fit_function, age_data, arpu_data, p0=initial_guess)\n",
    "\n",
    "# Print the found parameters\n",
    "params"
   ]
  },
  {
   "cell_type": "code",
   "execution_count": 29,
   "metadata": {},
   "outputs": [
    {
     "data": {
      "text/plain": [
       "0.002401925670642867"
      ]
     },
     "execution_count": 29,
     "metadata": {},
     "output_type": "execute_result"
    }
   ],
   "source": [
    "# Prediction for the 'age' = 30\n",
    "age_to_predict = 30\n",
    "predicted_arpu = fit_function(age_to_predict, *params)\n",
    "predicted_arpu"
   ]
  },
  {
   "cell_type": "code",
   "execution_count": 28,
   "metadata": {},
   "outputs": [
    {
     "data": {
      "image/png": "[encoded data removed]",
      "text/plain": [
       "<Figure size 640x480 with 1 Axes>"
      ]
     },
     "metadata": {},
     "output_type": "display_data"
    }
   ],
   "source": [
    "#Displaying the graph image\n",
    "\n",
    "import matplotlib.pyplot as plt\n",
    "import numpy as np\n",
    "\n",
    "# Plot the provided data points\n",
    "plt.scatter(age_data, arpu_data, label='Provided Data Points', color='blue')\n",
    "\n",
    "# Generate a smooth curve for the fitted function\n",
    "x_smooth = np.linspace(min(age_data), age_to_predict, 500)\n",
    "y_smooth = fit_function(x_smooth, *params)\n",
    "\n",
    "# Plot the smooth curve of the fitted function\n",
    "plt.plot(x_smooth, y_smooth, label='Fitted Function', color='red')\n",
    "\n",
    "# Mark the prediction at age 30\n",
    "plt.scatter(age_to_predict, predicted_arpu, label=f'Prediction at age 30: {predicted_arpu:.4f}', color='green')\n",
    "\n",
    "# Annotate the predicted point\n",
    "plt.annotate(f'{predicted_arpu:.4f}', \n",
    "             (age_to_predict, predicted_arpu),\n",
    "             textcoords=\"offset points\", \n",
    "             xytext=(0,10), \n",
    "             ha='center')\n",
    "\n",
    "plt.title('Average ARPU Prediction')\n",
    "plt.xlabel('Age')\n",
    "plt.ylabel('Average ARPU')\n",
    "plt.legend()\n",
    "plt.grid(True)\n",
    "plt.show()\n"
   ]
  },
  {
   "cell_type": "code",
   "execution_count": 39,
   "metadata": {},
   "outputs": [
    {
     "data": {
      "text/plain": [
       "(194.50575413242547, 78.26753007605535, 35.29720807989347)"
      ]
     },
     "execution_count": 39,
     "metadata": {},
     "output_type": "execute_result"
    }
   ],
   "source": [
    "day30_to_day0 = average_arpu_data['average_arpu'][0] / predicted_arpu\n",
    "day30_to_day1 = average_arpu_data['average_arpu'][1] / predicted_arpu\n",
    "day30_to_day3 = average_arpu_data['average_arpu'][3] / predicted_arpu\n",
    "(day30_to_day0, day30_to_day1, day30_to_day3)"
   ]
  },
  {
   "cell_type": "code",
   "execution_count": null,
   "metadata": {},
   "outputs": [],
   "source": [
    "#THUS, AGE_0/AGE_30 = 194.5, AGE_1/AGE_30 = 78.3, AGE_3/AGE_30 = 35.3"
   ]
  }
 ],
 "metadata": {
  "kernelspec": {
   "display_name": "Python 3",
   "language": "python",
   "name": "python3"
  },
  "language_info": {
   "codemirror_mode": {
    "name": "ipython",
    "version": 3
   },
   "file_extension": ".py",
   "mimetype": "text/x-python",
   "name": "python",
   "nbconvert_exporter": "python",
   "pygments_lexer": "ipython3",
   "version": "3.10.11"
  }
 },
 "nbformat": 4,
 "nbformat_minor": 2
}
